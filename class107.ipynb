{
  "nbformat": 4,
  "nbformat_minor": 0,
  "metadata": {
    "colab": {
      "provenance": [],
      "authorship_tag": "ABX9TyMvYKlzn2XwsukVqI05FJCH",
      "include_colab_link": true
    },
    "kernelspec": {
      "name": "python3",
      "display_name": "Python 3"
    },
    "language_info": {
      "name": "python"
    }
  },
  "cells": [
    {
      "cell_type": "markdown",
      "metadata": {
        "id": "view-in-github",
        "colab_type": "text"
      },
      "source": [
        "<a href=\"https://colab.research.google.com/github/Shriyansh1/balloon-buster/blob/main/class107.ipynb\" target=\"_parent\"><img src=\"https://colab.research.google.com/assets/colab-badge.svg\" alt=\"Open In Colab\"/></a>"
      ]
    },
    {
      "cell_type": "markdown",
      "source": [
        "\n",
        "\n",
        "# *For loops in python*\n",
        "\n",
        "\n"
      ],
      "metadata": {
        "id": "3MB3C8ChiBrU"
      }
    },
    {
      "cell_type": "code",
      "execution_count": 6,
      "metadata": {
        "colab": {
          "base_uri": "https://localhost:8080/"
        },
        "id": "k8Bc2V7shsWi",
        "outputId": "1598cb04-345a-4f1b-e9c9-f7a2e4f3c21e"
      },
      "outputs": [
        {
          "output_type": "stream",
          "name": "stdout",
          "text": [
            "0\n",
            "2\n",
            "4\n",
            "6\n",
            "8\n"
          ]
        }
      ],
      "source": [
        "range(0,5)\n",
        "for ab in range(0,10,2):\n",
        "  print(ab)"
      ]
    },
    {
      "cell_type": "code",
      "source": [
        "for xy in range(12,0,-1):\n",
        "  print(xy) "
      ],
      "metadata": {
        "colab": {
          "base_uri": "https://localhost:8080/"
        },
        "id": "wDOtp1YckZ9b",
        "outputId": "1326e2fa-dcb0-44ea-f3a1-c96ab8c08bb6"
      },
      "execution_count": 7,
      "outputs": [
        {
          "output_type": "stream",
          "name": "stdout",
          "text": [
            "12\n",
            "11\n",
            "10\n",
            "9\n",
            "8\n",
            "7\n",
            "6\n",
            "5\n",
            "4\n",
            "3\n",
            "2\n",
            "1\n"
          ]
        }
      ]
    },
    {
      "cell_type": "code",
      "source": [
        "marks=[33,40,56,67,86,23,25,86,78,90,99,100,55,56,47,68,0,86,99,100]\n",
        "count=0\n",
        "num=int(input(\"check the occurance of the number \"))\n",
        "for op in marks:\n",
        "  if(num==op):\n",
        "    count=count+1 \n",
        "print(num,\"is repeted \",count,\"times\")"
      ],
      "metadata": {
        "colab": {
          "base_uri": "https://localhost:8080/"
        },
        "id": "IZXymyH9k6kB",
        "outputId": "27ea813e-c698-43af-b649-fde5947cc203"
      },
      "execution_count": 10,
      "outputs": [
        {
          "output_type": "stream",
          "name": "stdout",
          "text": [
            "check the occurance of the number 0\n",
            "0 is repeted  1 times\n"
          ]
        }
      ]
    },
    {
      "cell_type": "markdown",
      "source": [
        "# *Project 107*"
      ],
      "metadata": {
        "id": "zpfIBGY-pAlv"
      }
    },
    {
      "cell_type": "code",
      "source": [
        "lower=int(input(\"Enter the lower limit :\"))\n",
        "highest=int(input(\"Enter the highest limit :\"))\n",
        "div=int(input(\"Which number do you want to divide :\"))\n",
        "for xyz in range(lower,highest+1,1):\n",
        "  if(xyz%div==0):\n",
        "    print(xyz)"
      ],
      "metadata": {
        "colab": {
          "base_uri": "https://localhost:8080/"
        },
        "id": "c0AnUB1ZpIxF",
        "outputId": "a73b40b2-9058-4cb5-f625-7b371f72c52b"
      },
      "execution_count": 11,
      "outputs": [
        {
          "output_type": "stream",
          "name": "stdout",
          "text": [
            "Enter the lower limit :10\n",
            "Enter the highest limit :90\n",
            "Which number do you want to divide :19\n",
            "19\n",
            "38\n",
            "57\n",
            "76\n"
          ]
        }
      ]
    }
  ]
}